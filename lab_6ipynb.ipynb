{
  "nbformat": 4,
  "nbformat_minor": 0,
  "metadata": {
    "colab": {
      "provenance": [],
      "authorship_tag": "ABX9TyOsZCfRn9bODV/sj4tP9oNR",
      "include_colab_link": true
    },
    "kernelspec": {
      "name": "python3",
      "display_name": "Python 3"
    },
    "language_info": {
      "name": "python"
    }
  },
  "cells": [
    {
      "cell_type": "markdown",
      "metadata": {
        "id": "view-in-github",
        "colab_type": "text"
      },
      "source": [
        "<a href=\"https://colab.research.google.com/github/varshith302/b.sri-varshith-reddy/blob/main/lab_6ipynb.ipynb\" target=\"_parent\"><img src=\"https://colab.research.google.com/assets/colab-badge.svg\" alt=\"Open In Colab\"/></a>"
      ]
    },
    {
      "cell_type": "code",
      "execution_count": 1,
      "metadata": {
        "colab": {
          "base_uri": "https://localhost:8080/"
        },
        "id": "8yRrl_19WrRY",
        "outputId": "44fd92f9-d355-4c3d-9c38-19d1c8cf3140"
      },
      "outputs": [
        {
          "output_type": "stream",
          "name": "stdout",
          "text": [
            "One-Hot Encoded DataFrame:\n",
            "   Category_Bird  Category_Cat  Category_Dog  Color_Blue  Color_Green  \\\n",
            "0          False          True         False       False        False   \n",
            "1          False         False          True        True        False   \n",
            "2           True         False         False       False         True   \n",
            "3          False         False          True        True        False   \n",
            "4          False          True         False       False         True   \n",
            "\n",
            "   Color_Red  \n",
            "0       True  \n",
            "1      False  \n",
            "2      False  \n",
            "3      False  \n",
            "4      False  \n",
            "\n",
            "--------------------------------------------------\n",
            "\n",
            "Label Encoded DataFrame:\n",
            "  Category  Color  Category_Label  Color_Label\n",
            "0      Cat    Red               1            2\n",
            "1      Dog   Blue               2            0\n",
            "2     Bird  Green               0            1\n",
            "3      Dog   Blue               2            0\n",
            "4      Cat  Green               1            1\n",
            "\n",
            "--------------------------------------------------\n",
            "\n",
            "Data with Age Column:\n",
            "      Name        DOB  Age\n",
            "0    Alice 1990-01-01   35\n",
            "1      Bob 1985-05-23   40\n",
            "2  Charlie 2000-12-15   25\n",
            "\n",
            "--------------------------------------------------\n",
            "\n",
            "Grouped Data by City with Total Sales:\n",
            "          City  Sales\n",
            "0      Chicago    300\n",
            "1  Los Angeles    450\n",
            "2     New York    250\n",
            "\n",
            "--------------------------------------------------\n",
            "\n",
            "Pivot Table for Sales by City and Month:\n",
            "Month        Feb  Jan\n",
            "City                 \n",
            "Chicago        0  300\n",
            "Los Angeles  250  200\n",
            "New York     150  100\n"
          ]
        }
      ],
      "source": [
        "\n",
        "import pandas as pd\n",
        "from sklearn.preprocessing import LabelEncoder\n",
        "\n",
        "data = {\n",
        "    'Category': ['Cat', 'Dog', 'Bird', 'Dog', 'Cat'],\n",
        "    'Color': ['Red', 'Blue', 'Green', 'Blue', 'Green']\n",
        "}\n",
        "\n",
        "df = pd.DataFrame(data)\n",
        "\n",
        "df_one_hot = pd.get_dummies(df, columns=['Category', 'Color'], prefix=['Category', 'Color'])\n",
        "print(\"One-Hot Encoded DataFrame:\")\n",
        "print(df_one_hot)\n",
        "print(\"\\n\" + \"-\"*50 + \"\\n\")\n",
        "\n",
        "label_encoder = LabelEncoder()\n",
        "\n",
        "df['Category_Label'] = label_encoder.fit_transform(df['Category'])\n",
        "df['Color_Label'] = label_encoder.fit_transform(df['Color'])\n",
        "\n",
        "print(\"Label Encoded DataFrame:\")\n",
        "print(df)\n",
        "print(\"\\n\" + \"-\"*50 + \"\\n\")\n",
        "\n",
        "data = {\n",
        "    'Name': ['Alice', 'Bob', 'Charlie'],\n",
        "    'DOB': ['1990-01-01', '1985-05-23', '2000-12-15']\n",
        "}\n",
        "\n",
        "df = pd.DataFrame(data)\n",
        "df['DOB'] = pd.to_datetime(df['DOB'])\n",
        "\n",
        "df['Age'] = pd.to_datetime('today').year - df['DOB'].dt.year\n",
        "\n",
        "print(\"Data with Age Column:\")\n",
        "print(df)\n",
        "print(\"\\n\" + \"-\"*50 + \"\\n\")\n",
        "\n",
        "group_data = {\n",
        "    'City': ['New York', 'Los Angeles', 'New York', 'Los Angeles', 'Chicago'],\n",
        "    'Sales': [100, 200, 150, 250, 300]\n",
        "}\n",
        "\n",
        "group_df = pd.DataFrame(group_data)\n",
        "\n",
        "grouped = group_df.groupby('City').agg({'Sales': 'sum'}).reset_index()\n",
        "\n",
        "print(\"Grouped Data by City with Total Sales:\")\n",
        "print(grouped)\n",
        "print(\"\\n\" + \"-\"*50 + \"\\n\")\n",
        "\n",
        "pivot_data = {\n",
        "    'City': ['New York', 'Los Angeles', 'New York', 'Los Angeles', 'Chicago'],\n",
        "    'Month': ['Jan', 'Jan', 'Feb', 'Feb', 'Jan'],\n",
        "    'Sales': [100, 200, 150, 250, 300]\n",
        "}\n",
        "\n",
        "pivot_df = pd.DataFrame(pivot_data)\n",
        "\n",
        "pivot_table = pivot_df.pivot_table(values='Sales', index='City', columns='Month', aggfunc='sum', fill_value=0)\n",
        "\n",
        "print(\"Pivot Table for Sales by City and Month:\")\n",
        "print(pivot_table)\n",
        "\n",
        ""
      ]
    }
  ]
}